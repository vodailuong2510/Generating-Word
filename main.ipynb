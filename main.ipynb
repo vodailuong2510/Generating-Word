{
  "nbformat": 4,
  "nbformat_minor": 0,
  "metadata": {
    "colab": {
      "provenance": [],
      "gpuType": "T4"
    },
    "kernelspec": {
      "name": "python3",
      "display_name": "Python 3"
    },
    "accelerator": "GPU"
  },
  "cells": [
    {
      "cell_type": "code",
      "metadata": {
        "id": "JLE33nJlAksi",
        "colab": {
          "base_uri": "https://localhost:8080/"
        },
        "outputId": "c0e1991c-4329-4441-bde5-ec912e32fd06"
      },
      "source": [
        "!wget --no-check-certificate \\\n",
        "    https://storage.googleapis.com/protonx-cloud-storage/data.txt\n",
        "data = open('data.txt').read()"
      ],
      "execution_count": 78,
      "outputs": [
        {
          "output_type": "stream",
          "name": "stdout",
          "text": [
            "--2024-04-24 09:10:30--  https://storage.googleapis.com/protonx-cloud-storage/data.txt\n",
            "Resolving storage.googleapis.com (storage.googleapis.com)... 64.233.170.207, 142.251.175.207, 74.125.24.207, ...\n",
            "Connecting to storage.googleapis.com (storage.googleapis.com)|64.233.170.207|:443... connected.\n",
            "HTTP request sent, awaiting response... 200 OK\n",
            "Length: 93578 (91K) [text/plain]\n",
            "Saving to: ‘data.txt.5’\n",
            "\n",
            "data.txt.5          100%[===================>]  91.38K   393KB/s    in 0.2s    \n",
            "\n",
            "2024-04-24 09:10:30 (393 KB/s) - ‘data.txt.5’ saved [93578/93578]\n",
            "\n"
          ]
        }
      ]
    },
    {
      "cell_type": "code",
      "metadata": {
        "id": "SECXWx0krUlc"
      },
      "source": [
        "from tensorflow.keras.preprocessing.sequence import pad_sequences\n",
        "from tensorflow.keras.layers import Embedding, LSTM, Dense, Dropout, Bidirectional\n",
        "from tensorflow.keras.preprocessing.text import Tokenizer\n",
        "from tensorflow.keras.models import Sequential\n",
        "from tensorflow.keras.optimizers import Adam\n",
        "import tensorflow.keras.utils as ku\n",
        "import numpy as np"
      ],
      "execution_count": 79,
      "outputs": []
    },
    {
      "cell_type": "code",
      "metadata": {
        "id": "D3QHseGbAoXg",
        "colab": {
          "base_uri": "https://localhost:8080/"
        },
        "outputId": "5ac490c4-2529-4a80-fa80-64ad02eee759"
      },
      "source": [
        "data = data.lower().split(\"\\n\")\n",
        "data[:10]"
      ],
      "execution_count": 80,
      "outputs": [
        {
          "output_type": "execute_result",
          "data": {
            "text/plain": [
              "['from fairest creatures we desire increase,',\n",
              " \"that thereby beauty's rose might never die,\",\n",
              " 'but as the riper should by time decease,',\n",
              " 'his tender heir might bear his memory:',\n",
              " 'but thou, contracted to thine own bright eyes,',\n",
              " \"feed'st thy light'st flame with self-substantial fuel,\",\n",
              " 'making a famine where abundance lies,',\n",
              " 'thyself thy foe, to thy sweet self too cruel.',\n",
              " \"thou that art now the world's fresh ornament\",\n",
              " 'and only herald to the gaudy spring,']"
            ]
          },
          "metadata": {},
          "execution_count": 80
        }
      ]
    },
    {
      "cell_type": "code",
      "metadata": {
        "id": "UKsfQdUaAwEA"
      },
      "source": [
        "tokenizer = Tokenizer()\n",
        "tokenizer.fit_on_texts(data)\n",
        "total_words = len(tokenizer.word_index) + 1\n",
        "\n",
        "import pickle\n",
        "tokenizer_path = \"tokenizer.pickle\"\n",
        "with open(tokenizer_path, \"wb\") as f:\n",
        "    pickle.dump(tokenizer, f)\n",
        "\n",
        "input_sequences = []\n",
        "for line in data:\n",
        "  token_list = tokenizer.texts_to_sequences([line])[0]\n",
        "  for i in range(1, len(token_list)):\n",
        "    n_gram_sequence = token_list[:i+1]\n",
        "    input_sequences.append(n_gram_sequence)"
      ],
      "execution_count": 84,
      "outputs": []
    },
    {
      "cell_type": "code",
      "metadata": {
        "id": "7PBrJTe4Dnsb"
      },
      "source": [
        "max_sequence_len = max([len(x) for x in input_sequences])\n",
        "input_sequences = np.array(pad_sequences(input_sequences, maxlen=max_sequence_len, padding='pre'))\n",
        "\n",
        "X_train, y_train = input_sequences[:,:-1],input_sequences[:,-1]\n",
        "y_train = ku.to_categorical(y_train, num_classes=total_words)"
      ],
      "execution_count": null,
      "outputs": []
    },
    {
      "cell_type": "code",
      "metadata": {
        "id": "18r5pRWfEqup"
      },
      "source": [
        "model = Sequential()\n",
        "model.add(Embedding(total_words, 100, input_length=max_sequence_len-1))\n",
        "model.add(Bidirectional(LSTM(150, return_sequences = True)))\n",
        "model.add(Dropout(0.2))\n",
        "model.add(Bidirectional(LSTM(100)))\n",
        "model.add(Dense(total_words/2, activation='relu'))\n",
        "model.add(Dense(total_words, activation='softmax'))"
      ],
      "execution_count": null,
      "outputs": []
    },
    {
      "cell_type": "code",
      "metadata": {
        "id": "1bNWIxutDmd-",
        "colab": {
          "base_uri": "https://localhost:8080/"
        },
        "outputId": "76188f6e-f9c9-4824-cd9f-9441fde56dc5"
      },
      "source": [
        "model.compile(optimizer = 'adam', loss ='categorical_crossentropy', metrics = ['acc'])\n",
        "history = model.fit(X_train, y_train, epochs=10, verbose=1)"
      ],
      "execution_count": null,
      "outputs": [
        {
          "output_type": "stream",
          "name": "stdout",
          "text": [
            "Epoch 1/10\n",
            "484/484 [==============================] - 18s 22ms/step - loss: 0.9977 - acc: 0.7529\n",
            "Epoch 2/10\n",
            "484/484 [==============================] - 6s 13ms/step - loss: 0.8499 - acc: 0.7854\n",
            "Epoch 3/10\n",
            "484/484 [==============================] - 6s 13ms/step - loss: 0.8074 - acc: 0.7952\n",
            "Epoch 4/10\n",
            "484/484 [==============================] - 6s 13ms/step - loss: 0.8031 - acc: 0.7961\n",
            "Epoch 5/10\n",
            "484/484 [==============================] - 6s 13ms/step - loss: 0.7653 - acc: 0.8005\n",
            "Epoch 6/10\n",
            "484/484 [==============================] - 6s 13ms/step - loss: 0.7246 - acc: 0.8126\n",
            "Epoch 7/10\n",
            "484/484 [==============================] - 6s 12ms/step - loss: 0.7379 - acc: 0.8077\n",
            "Epoch 8/10\n",
            "484/484 [==============================] - 6s 12ms/step - loss: 0.7226 - acc: 0.8115\n",
            "Epoch 9/10\n",
            "484/484 [==============================] - 6s 11ms/step - loss: 0.6716 - acc: 0.8223\n",
            "Epoch 10/10\n",
            "484/484 [==============================] - 6s 13ms/step - loss: 0.6618 - acc: 0.8265\n"
          ]
        }
      ]
    },
    {
      "cell_type": "code",
      "source": [
        "model.save('word_generator.keras')"
      ],
      "metadata": {
        "id": "TvvFUf2jMeC9"
      },
      "execution_count": null,
      "outputs": []
    },
    {
      "cell_type": "code",
      "metadata": {
        "id": "tnFicgjcDuqu",
        "colab": {
          "base_uri": "https://localhost:8080/"
        },
        "outputId": "9a1c380f-8a87-42f1-b9e8-69f8b5b4a54b"
      },
      "source": [
        "test_seq = 'they'\n",
        "next_words = 10\n",
        "\n",
        "for _ in range(next_words):\n",
        "  token_list = tokenizer.texts_to_sequences([test_seq])[0]\n",
        "  token_list = pad_sequences([token_list], maxlen=max_sequence_len-1, padding='pre')\n",
        "  predicted = np.argmax(model.predict(token_list))\n",
        "  output_word = \"\"\n",
        "  for word, index in tokenizer.word_index.items():\n",
        "    if index == predicted:\n",
        "      output_word = word\n",
        "      break\n",
        "  test_seq += \" \" + output_word\n",
        "print(test_seq)"
      ],
      "execution_count": null,
      "outputs": [
        {
          "output_type": "stream",
          "name": "stdout",
          "text": [
            "1/1 [==============================] - 0s 21ms/step\n",
            "1/1 [==============================] - 0s 21ms/step\n",
            "1/1 [==============================] - 0s 20ms/step\n",
            "1/1 [==============================] - 0s 20ms/step\n",
            "1/1 [==============================] - 0s 21ms/step\n",
            "1/1 [==============================] - 0s 19ms/step\n",
            "1/1 [==============================] - 0s 20ms/step\n",
            "1/1 [==============================] - 0s 18ms/step\n",
            "1/1 [==============================] - 0s 20ms/step\n",
            "1/1 [==============================] - 0s 19ms/step\n",
            "they are but dressings of a former sight an brow had\n"
          ]
        }
      ]
    }
  ]
}